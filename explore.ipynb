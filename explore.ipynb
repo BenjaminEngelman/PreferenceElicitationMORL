{
 "cells": [
  {
   "cell_type": "code",
   "execution_count": 47,
   "metadata": {},
   "outputs": [],
   "source": [
    "from scipy.stats import norm\n",
    "import matplotlib.pyplot as plt\n",
    "import numpy as np"
   ]
  },
  {
   "cell_type": "code",
   "execution_count": null,
   "metadata": {},
   "outputs": [],
   "source": []
  },
  {
   "cell_type": "code",
   "execution_count": 22,
   "metadata": {},
   "outputs": [],
   "source": [
    "rv = norm(loc=1, scale=0)"
   ]
  },
  {
   "cell_type": "code",
   "execution_count": 106,
   "metadata": {},
   "outputs": [],
   "source": [
    "y = []\n",
    "_x = np.linspace(-5, 5, 100)\n",
    "for x in _x:\n",
    "    y.append(norm.logcdf(x, loc=0, scale=1))"
   ]
  },
  {
   "cell_type": "code",
   "execution_count": 107,
   "metadata": {},
   "outputs": [
    {
     "data": {
      "text/plain": [
       "[<matplotlib.lines.Line2D at 0x7ff46f3546d8>]"
      ]
     },
     "execution_count": 107,
     "metadata": {},
     "output_type": "execute_result"
    },
    {
     "data": {
      "image/png": "[encoded data removed]",
      "text/plain": [
       "<Figure size 432x288 with 1 Axes>"
      ]
     },
     "metadata": {
      "needs_background": "light"
     },
     "output_type": "display_data"
    }
   ],
   "source": [
    "plt.plot(_x, y)"
   ]
  },
  {
   "cell_type": "code",
   "execution_count": 79,
   "metadata": {},
   "outputs": [
    {
     "name": "stdout",
     "output_type": "stream",
     "text": [
      "[1 2] [10 -9]\n"
     ]
    }
   ],
   "source": [
    "import math\n",
    "x = np.array([1, 2])\n",
    "sigma = np.identity(2)\n",
    "\n",
    "a = np.array([12, 1])\n",
    "b = np.array([2, 10])\n",
    "\n",
    "d = a - b\n",
    "print(x, d)"
   ]
  },
  {
   "cell_type": "code",
   "execution_count": 82,
   "metadata": {},
   "outputs": [
    {
     "name": "stdout",
     "output_type": "stream",
     "text": [
      "[10.  0.]\n",
      "-8\n"
     ]
    },
    {
     "data": {
      "text/plain": [
       "array([-3.54167366,         nan])"
      ]
     },
     "execution_count": 82,
     "metadata": {},
     "output_type": "execute_result"
    }
   ],
   "source": [
    "varAlongD = (d * sigma * d.T)[0]\n",
    "print(np.sqrt(varAlongD))\n",
    "meanAlongD = d.reshape(-1,).dot(x.reshape(-1,))\n",
    "print(meanAlongD)\n",
    "# norm.logcdf(meanAlongD, 0, np.sqrt(varAlongD))\n",
    "np.log(norm.cdf(meanAlongD + 0.5, 0, np.sqrt(varAlongD)) - norm.cdf(meanAlongD - 0.5, 0, np.sqrt(varAlongD)))"
   ]
  },
  {
   "cell_type": "code",
   "execution_count": null,
   "metadata": {},
   "outputs": [],
   "source": [
    "norm.pdf()"
   ]
  },
  {
   "cell_type": "code",
   "execution_count": 112,
   "metadata": {},
   "outputs": [
    {
     "data": {
      "text/plain": [
       "-0.894385450010955"
      ]
     },
     "execution_count": 112,
     "metadata": {},
     "output_type": "execute_result"
    }
   ],
   "source": [
    "norm(0, 1).rvs()"
   ]
  },
  {
   "cell_type": "markdown",
   "metadata": {},
   "source": [
    "# Log regression"
   ]
  },
  {
   "cell_type": "code",
   "execution_count": 9,
   "metadata": {},
   "outputs": [],
   "source": [
    "import numpy as np\n",
    "import src.bayes_logistic as bl"
   ]
  },
  {
   "cell_type": "code",
   "execution_count": 222,
   "metadata": {},
   "outputs": [],
   "source": [
    "hidden_weights = np.array([0.8, 0.2])\n",
    "utility = lambda x: hidden_weights[0] * x[0] + hidden_weights[1] * x[1] \n",
    "\n",
    "range_1 = [0, 200]\n",
    "range_2 = [-13, -1]"
   ]
  },
  {
   "cell_type": "code",
   "execution_count": 375,
   "metadata": {},
   "outputs": [
    {
     "name": "stdout",
     "output_type": "stream",
     "text": [
      "[0.5 0.5]\n",
      "[0.4462467 0.5537533]\n",
      "[0.44996756 0.55003244]\n",
      "[0.45325618 0.54674382]\n",
      "[0.45442364 0.54557636]\n",
      "[0.45803761 0.54196239]\n",
      "[0.46110878 0.53889122]\n",
      "[0.4588046 0.5411954]\n",
      "[0.36436661 0.63563339]\n",
      "[0.36500573 0.63499427]\n",
      "[0.43278542 0.56721458]\n",
      "[0.43026367 0.56973633]\n",
      "[0.42909915 0.57090085]\n",
      "[0.4344432 0.5655568]\n",
      "[0.433521 0.566479]\n",
      "[0.43444633 0.56555367]\n",
      "[0.44206459 0.55793541]\n",
      "[0.44079655 0.55920345]\n",
      "[0.44155542 0.55844458]\n",
      "[0.44349079 0.55650921]\n"
     ]
    }
   ],
   "source": [
    "from random import randint\n",
    "\n",
    "X = []\n",
    "Y = []\n",
    "\n",
    "w_prior = np.ones(len(hidden_weights)) / len(hidden_weights)\n",
    "\n",
    "for _ in range(20):\n",
    "    p1 = np.array([randint(range_1[0], range_1[1]), randint(range_2[0], range_2[1])])\n",
    "    p2 = np.array([randint(range_1[0], range_1[1]), randint(range_2[0], range_2[1])])\n",
    "    x = p1 - p2\n",
    "    X.append(x)\n",
    "    Y.append(float(utility(p1) >= utility(p2)))\n",
    "    \n",
    "    # Regression\n",
    "    H_prior_diag = np.ones(len(hidden_weights)) #* (1.0 / 0.5) ** 2\n",
    "\n",
    "    w_fit, H_fit = bl.fit_bayes_logistic(np.array(Y),\n",
    "                                         np.array(X),\n",
    "                                         w_prior,\n",
    "                                         H_prior_diag)\n",
    "    unnorm_w = w_fit\n",
    "    sum_w = sum(unnorm_w)\n",
    "    print(unnorm_w / sum_w)\n",
    "#     w_prior = unnorm_w / sum_w\n",
    "    \n"
   ]
  },
  {
   "cell_type": "code",
   "execution_count": null,
   "metadata": {},
   "outputs": [],
   "source": []
  },
  {
   "cell_type": "code",
   "execution_count": 151,
   "metadata": {},
   "outputs": [
    {
     "name": "stdout",
     "output_type": "stream",
     "text": [
      "[0.5 0.5]\n",
      "[0.50054316 0.49945684]\n"
     ]
    }
   ],
   "source": [
    "w_prior = np.ones(len(hidden_weights)) / \\\n",
    "    len(hidden_weights)\n",
    "H_prior_diag = np.ones(\n",
    "    len(hidden_weights)) * (1.0 / 0.33) ** 2\n",
    "\n",
    "print(w_prior)\n",
    "w_fit, H_fit = bl.fit_bayes_logistic(Y,\n",
    "                                     X,\n",
    "                                     w_prior,\n",
    "                                     H_prior_diag)\n",
    "unnorm_w = w_fit\n",
    "sum_w = sum(unnorm_w)\n",
    "print(unnorm_w / sum_w)\n"
   ]
  },
  {
   "cell_type": "code",
   "execution_count": 5,
   "metadata": {},
   "outputs": [],
   "source": [
    "import numpy as np\n",
    "GAMMA_BST = 0.95\n",
    "\n",
    "\n",
    "solutions = [\n",
    "    [18 * GAMMA_BST**2, sum([-1 * GAMMA_BST**i for i in range(2)])],\n",
    "    [26 * GAMMA_BST**3, sum([-1 * GAMMA_BST**i for i in range(3)])],\n",
    "    [31 * GAMMA_BST**4, sum([-1 * GAMMA_BST**i for i in range(4)])],\n",
    "    [44 * GAMMA_BST**7, sum([-1 * GAMMA_BST**i for i in range(7)])],\n",
    "    [48.2 * GAMMA_BST**8, sum([-1 * GAMMA_BST**i for i in range(8)])],\n",
    "    [56 * GAMMA_BST**10, sum([-1 * GAMMA_BST**i for i in range(10)])],\n",
    "    [72 * GAMMA_BST**14, sum([-1 * GAMMA_BST**i for i in range(14)])],\n",
    "    [76.3 * GAMMA_BST**15, sum([-1 * GAMMA_BST**i for i in range(15)])],\n",
    "    [90 * GAMMA_BST**18, sum([-1 * GAMMA_BST**i for i in range(18)])],\n",
    "    [100 * GAMMA_BST**20, sum([-1 * GAMMA_BST**i for i in range(20)])],\n",
    "]\n",
    "\n",
    "# weights = [0.43418691, 0.56581309]\n",
    "weights = [0.36666223, 0.63333777]\n",
    "\n",
    "def get_best_sol(weights):\n",
    "    utility = lambda x: weights[0] * x[0] + weights[1] * x[1]\n",
    "\n",
    "    best_u = -1000\n",
    "    best_sol = 0\n",
    "\n",
    "    for sol in solutions:\n",
    "        if utility(sol) > best_u:\n",
    "            best_u = utility(sol)\n",
    "            best_sol = sol\n",
    "\n",
    "    return best_sol"
   ]
  },
  {
   "cell_type": "code",
   "execution_count": 6,
   "metadata": {},
   "outputs": [
    {
     "data": {
      "image/png": "[encoded data removed]",
      "text/plain": [
       "<Figure size 1440x720 with 1 Axes>"
      ]
     },
     "metadata": {
      "needs_background": "light"
     },
     "output_type": "display_data"
    }
   ],
   "source": [
    "import matplotlib.pyplot as plt\n",
    "\n",
    "y = []\n",
    "u = []\n",
    "weights_line = np.arange(0, 1.01, 0.01)\n",
    "\n",
    "for w in weights_line:\n",
    "    val = get_best_sol([w, 1-w])\n",
    "    u.append(w * val[0] + (1-w) * val[1])\n",
    "    y.append(val[0])\n",
    "#     print(w, val)\n",
    "\n",
    "plt.figure(figsize=(20, 10))\n",
    "plt.scatter(x=weights_line, y=y)\n",
    "plt.xlabel(\"Treaseure Weight\")\n",
    "plt.ylabel(\"Treasure Value\")\n",
    "\n",
    "for sol in solutions:\n",
    "#     plt.hlines(sol[0], 0, 1, linestyles='dashed')\n",
    "    plt.text(1.02, sol[0], sol[0], ha='right', va='center')"
   ]
  },
  {
   "cell_type": "code",
   "execution_count": 7,
   "metadata": {},
   "outputs": [
    {
     "data": {
      "text/plain": [
       "{16.245,\n",
       " 22.291749999999997,\n",
       " 25.249693749999995,\n",
       " 30.726841028124987,\n",
       " 31.9768647881328,\n",
       " 33.52926859734921,\n",
       " 35.11259849631813,\n",
       " 35.34912086118916,\n",
       " 35.74928866123964,\n",
       " 35.84859224085419}"
      ]
     },
     "execution_count": 7,
     "metadata": {},
     "output_type": "execute_result"
    }
   ],
   "source": [
    "unique_y = set(y)\n",
    "unique_y"
   ]
  },
  {
   "cell_type": "code",
   "execution_count": 8,
   "metadata": {},
   "outputs": [
    {
     "data": {
      "text/plain": [
       "10"
      ]
     },
     "execution_count": 8,
     "metadata": {},
     "output_type": "execute_result"
    }
   ],
   "source": [
    "len(unique_y)"
   ]
  },
  {
   "cell_type": "code",
   "execution_count": 9,
   "metadata": {},
   "outputs": [
    {
     "name": "stdout",
     "output_type": "stream",
     "text": [
      "[31.467493599512693, 31.954282337439526, 32.44107107536636, 32.92785981329319, 33.41464855122002, 33.901437289146855, 34.388226027073685, 34.87501476500052, 35.36180350292736, 35.84859224085419]\n",
      "[0.91 0.92 0.93 0.94 0.95 0.96 0.97 0.98 0.99 1.  ]\n"
     ]
    }
   ],
   "source": [
    "print(u[-10:])\n",
    "print(weights_line[-10:])"
   ]
  },
  {
   "cell_type": "code",
   "execution_count": 33,
   "metadata": {},
   "outputs": [
    {
     "name": "stdout",
     "output_type": "stream",
     "text": [
      "35.84859224085419\n"
     ]
    }
   ],
   "source": [
    "hidden_weights = [1, 0.0]\n",
    "\n",
    "utility = lambda x: hidden_weights[0] * x[0] + hidden_weights[1] * x[1]\n",
    "\n",
    "max_u = utility(get_best_sol(hidden_weights))\n",
    "print(max_u)"
   ]
  },
  {
   "cell_type": "code",
   "execution_count": 36,
   "metadata": {},
   "outputs": [
    {
     "name": "stdout",
     "output_type": "stream",
     "text": [
      "[16.245, 22.291749999999997, 25.249693749999995, 30.726841028124987, 31.9768647881328, 33.52926859734921, 35.11259849631813, 35.34912086118916, 35.74928866123964, 35.84859224085419]\n",
      "\n",
      "[0.0, 0.308451120881737, 0.4593389639697807, 0.7387340468113087, 0.8024990825583156, 0.8816888448295984, 0.9624561796892389, 0.9745214359935458, 0.9949344192434487, 1.0]\n"
     ]
    }
   ],
   "source": [
    "utilities = []\n",
    "norm_utilities = []\n",
    "for sol in solutions:\n",
    "    utilities.append(utility(sol))\n",
    "print(utilities)\n",
    "print()\n",
    "for u in utilities:\n",
    "    norm_utilities.append((u - min(utilities)) / (max(utilities) - min(utilities)))\n",
    "\n",
    "print(norm_utilities)"
   ]
  },
  {
   "cell_type": "code",
   "execution_count": 364,
   "metadata": {},
   "outputs": [],
   "source": [
    "w_list = np.arange(0, 1, 0.01)\n",
    "u_list = []\n",
    "for w in w_list:\n",
    "    sol = get_best_sol([w, 1-w])\n",
    "    u_list.append(utility(sol) / max_u)\n",
    "    \n",
    "    "
   ]
  },
  {
   "cell_type": "code",
   "execution_count": 32,
   "metadata": {},
   "outputs": [
    {
     "data": {
      "image/png": "[encoded data removed]",
      "text/plain": [
       "<Figure size 432x288 with 1 Axes>"
      ]
     },
     "metadata": {
      "needs_background": "light"
     },
     "output_type": "display_data"
    }
   ],
   "source": [
    "plt.plot(norm_utilities);\n"
   ]
  },
  {
   "cell_type": "code",
   "execution_count": null,
   "metadata": {},
   "outputs": [],
   "source": [
    "17.1 * 1 +  0."
   ]
  },
  {
   "cell_type": "code",
   "execution_count": 2,
   "metadata": {},
   "outputs": [],
   "source": [
    "from collections import namedtuple\n",
    "\n",
    "Point = namedtuple(\"Point\", [\"x\", \"y\"])\n",
    "\n",
    "def intersection(p1, p2, p3, p4):\n",
    "    \"\"\"\n",
    "    Compute the intersection of the lines defined as\n",
    "    (p1, p2) and (p3, p4)\n",
    "    \"\"\"\n",
    "    # print(p1, p2, p3, p4)\n",
    "    numX = (p1.x*p2.y-p1.y*p2.x)*(p3.x-p4.x)-(p1.x-p2.x)*(p3.x*p4.y-p3.y*p4.x)\n",
    "    numY = (p1.x*p2.y-p1.y*p2.x)*(p3.y-p4.y)-(p1.y-p2.y)*(p3.x*p4.y-p3.y*p4.x)\n",
    "    denum = (p1.x-p2.x)*(p3.y-p4.y)-(p1.y-p2.y)*(p3.x-p4.x)\n",
    "\n",
    "    px = numX / denum\n",
    "    py = numY / denum\n",
    "    # return Point(round(px, 4), round(py, 4))\n",
    "    return px, py"
   ]
  },
  {
   "cell_type": "code",
   "execution_count": 3,
   "metadata": {},
   "outputs": [
    {
     "data": {
      "text/plain": [
       "(0.10000000000000002, 3.8000000000000003)"
      ]
     },
     "execution_count": 3,
     "metadata": {},
     "output_type": "execute_result"
    }
   ],
   "source": [
    "intersection(Point(0.1, 0), Point(0.1, 3), Point(0, 4), Point(1, 2))"
   ]
  },
  {
   "cell_type": "code",
   "execution_count": 7,
   "metadata": {},
   "outputs": [
    {
     "data": {
      "text/plain": [
       "<matplotlib.collections.PathCollection at 0x7f8062c965c0>"
      ]
     },
     "execution_count": 7,
     "metadata": {},
     "output_type": "execute_result"
    },
    {
     "data": {
      "image/png": "[encoded data removed]",
      "text/plain": [
       "<Figure size 432x288 with 1 Axes>"
      ]
     },
     "metadata": {
      "needs_background": "light"
     },
     "output_type": "display_data"
    }
   ],
   "source": [
    "import matplotlib.pyplot as plt\n",
    "plt.scatter(0.1, 0)\n",
    "plt.scatter(0.1, 3)\n",
    "plt.scatter(0, 4)\n",
    "plt.scatter(1, 2)\n",
    "plt.scatter(0.1, 3.8)"
   ]
  },
  {
   "cell_type": "code",
   "execution_count": 65,
   "metadata": {},
   "outputs": [
    {
     "ename": "KeyboardInterrupt",
     "evalue": "",
     "output_type": "error",
     "traceback": [
      "\u001b[0;31m---------------------------------------------------------------------------\u001b[0m",
      "\u001b[0;31mKeyboardInterrupt\u001b[0m                         Traceback (most recent call last)",
      "\u001b[0;32m<ipython-input-65-808aa6d5727a>\u001b[0m in \u001b[0;36m<module>\u001b[0;34m\u001b[0m\n\u001b[1;32m     26\u001b[0m \u001b[0mz\u001b[0m \u001b[0;34m=\u001b[0m \u001b[0mnp\u001b[0m\u001b[0;34m.\u001b[0m\u001b[0mouter\u001b[0m\u001b[0;34m(\u001b[0m\u001b[0mnp\u001b[0m\u001b[0;34m.\u001b[0m\u001b[0mcos\u001b[0m\u001b[0;34m(\u001b[0m\u001b[0mtheta\u001b[0m\u001b[0;34m)\u001b[0m\u001b[0;34m,\u001b[0m \u001b[0mnp\u001b[0m\u001b[0;34m.\u001b[0m\u001b[0mones_like\u001b[0m\u001b[0;34m(\u001b[0m\u001b[0mphi\u001b[0m\u001b[0;34m)\u001b[0m\u001b[0;34m)\u001b[0m\u001b[0;34m\u001b[0m\u001b[0;34m\u001b[0m\u001b[0m\n\u001b[1;32m     27\u001b[0m \u001b[0;34m\u001b[0m\u001b[0m\n\u001b[0;32m---> 28\u001b[0;31m \u001b[0mxi\u001b[0m\u001b[0;34m,\u001b[0m \u001b[0myi\u001b[0m\u001b[0;34m,\u001b[0m \u001b[0mzi\u001b[0m \u001b[0;34m=\u001b[0m \u001b[0msample_spherical\u001b[0m\u001b[0;34m(\u001b[0m\u001b[0;36m300\u001b[0m\u001b[0;34m)\u001b[0m\u001b[0;34m\u001b[0m\u001b[0;34m\u001b[0m\u001b[0m\n\u001b[0m\u001b[1;32m     29\u001b[0m \u001b[0;34m\u001b[0m\u001b[0m\n\u001b[1;32m     30\u001b[0m \u001b[0mfig\u001b[0m\u001b[0;34m,\u001b[0m \u001b[0max\u001b[0m \u001b[0;34m=\u001b[0m \u001b[0mplt\u001b[0m\u001b[0;34m.\u001b[0m\u001b[0msubplots\u001b[0m\u001b[0;34m(\u001b[0m\u001b[0;36m1\u001b[0m\u001b[0;34m,\u001b[0m \u001b[0;36m1\u001b[0m\u001b[0;34m,\u001b[0m \u001b[0msubplot_kw\u001b[0m\u001b[0;34m=\u001b[0m\u001b[0;34m{\u001b[0m\u001b[0;34m'projection'\u001b[0m\u001b[0;34m:\u001b[0m\u001b[0;34m'3d'\u001b[0m\u001b[0;34m}\u001b[0m\u001b[0;34m)\u001b[0m\u001b[0;34m\u001b[0m\u001b[0;34m\u001b[0m\u001b[0m\n",
      "\u001b[0;32m<ipython-input-65-808aa6d5727a>\u001b[0m in \u001b[0;36msample_spherical\u001b[0;34m(npoints, ndim)\u001b[0m\n\u001b[1;32m     12\u001b[0m     \u001b[0mvec\u001b[0m \u001b[0;34m=\u001b[0m \u001b[0mnp\u001b[0m\u001b[0;34m.\u001b[0m\u001b[0mrandom\u001b[0m\u001b[0;34m.\u001b[0m\u001b[0mrandn\u001b[0m\u001b[0;34m(\u001b[0m\u001b[0mndim\u001b[0m\u001b[0;34m,\u001b[0m \u001b[0mnpoints\u001b[0m\u001b[0;34m)\u001b[0m\u001b[0;34m\u001b[0m\u001b[0;34m\u001b[0m\u001b[0m\n\u001b[1;32m     13\u001b[0m     \u001b[0mvec\u001b[0m \u001b[0;34m/=\u001b[0m \u001b[0mnp\u001b[0m\u001b[0;34m.\u001b[0m\u001b[0mlinalg\u001b[0m\u001b[0;34m.\u001b[0m\u001b[0mnorm\u001b[0m\u001b[0;34m(\u001b[0m\u001b[0mvec\u001b[0m\u001b[0;34m,\u001b[0m \u001b[0maxis\u001b[0m\u001b[0;34m=\u001b[0m\u001b[0;36m0\u001b[0m\u001b[0;34m)\u001b[0m\u001b[0;34m\u001b[0m\u001b[0;34m\u001b[0m\u001b[0m\n\u001b[0;32m---> 14\u001b[0;31m     \u001b[0;32mwhile\u001b[0m \u001b[0;32mnot\u001b[0m \u001b[0;34m(\u001b[0m\u001b[0;32mnot\u001b[0m \u001b[0;32mFalse\u001b[0m \u001b[0;32min\u001b[0m \u001b[0mnp\u001b[0m\u001b[0;34m.\u001b[0m\u001b[0mall\u001b[0m\u001b[0;34m(\u001b[0m\u001b[0mvec\u001b[0m\u001b[0;34m>\u001b[0m\u001b[0;36m0\u001b[0m\u001b[0;34m,\u001b[0m \u001b[0maxis\u001b[0m\u001b[0;34m=\u001b[0m\u001b[0;36m0\u001b[0m\u001b[0;34m)\u001b[0m\u001b[0;34m)\u001b[0m\u001b[0;34m:\u001b[0m\u001b[0;34m\u001b[0m\u001b[0;34m\u001b[0m\u001b[0m\n\u001b[0m\u001b[1;32m     15\u001b[0m         \u001b[0mvec\u001b[0m \u001b[0;34m=\u001b[0m \u001b[0mnp\u001b[0m\u001b[0;34m.\u001b[0m\u001b[0mrandom\u001b[0m\u001b[0;34m.\u001b[0m\u001b[0mrandn\u001b[0m\u001b[0;34m(\u001b[0m\u001b[0mndim\u001b[0m\u001b[0;34m,\u001b[0m \u001b[0mnpoints\u001b[0m\u001b[0;34m)\u001b[0m\u001b[0;34m\u001b[0m\u001b[0;34m\u001b[0m\u001b[0m\n\u001b[1;32m     16\u001b[0m         \u001b[0mvec\u001b[0m \u001b[0;34m/=\u001b[0m \u001b[0mnp\u001b[0m\u001b[0;34m.\u001b[0m\u001b[0mlinalg\u001b[0m\u001b[0;34m.\u001b[0m\u001b[0mnorm\u001b[0m\u001b[0;34m(\u001b[0m\u001b[0mvec\u001b[0m\u001b[0;34m,\u001b[0m \u001b[0maxis\u001b[0m\u001b[0;34m=\u001b[0m\u001b[0;36m0\u001b[0m\u001b[0;34m)\u001b[0m\u001b[0;34m\u001b[0m\u001b[0;34m\u001b[0m\u001b[0m\n",
      "\u001b[0;31mKeyboardInterrupt\u001b[0m: "
     ]
    }
   ],
   "source": [
    "import numpy as np\n",
    "\n",
    "def sample_point_on_sphere(npoints, ndim=3):\n",
    "    vec = np.random.randn(ndim)\n",
    "    vec /= np.linalg.norm(vec, axis=0)\n",
    "    while not (not False in np.all(vec>0, axis=0)):\n",
    "        vec = np.random.randn(ndim)\n",
    "        vec /= np.linalg.norm(vec, axis=0)\n",
    "    return vec\n",
    "\n",
    "def sample_spherical(npoints, ndim=3):\n",
    "    vec = np.random.randn(ndim, npoints)\n",
    "    vec /= np.linalg.norm(vec, axis=0)\n",
    "    while not (not False in np.all(vec>0, axis=0)):\n",
    "        vec = np.random.randn(ndim, npoints)\n",
    "        vec /= np.linalg.norm(vec, axis=0)\n",
    "    return vec\n",
    "\n",
    "from matplotlib import pyplot as plt\n",
    "from mpl_toolkits.mplot3d import axes3d\n",
    "\n",
    "phi = np.linspace(0, np.pi, 20)\n",
    "theta = np.linspace(0, 2 * np.pi, 40)\n",
    "x = np.outer(np.sin(theta), np.cos(phi))\n",
    "y = np.outer(np.sin(theta), np.sin(phi))\n",
    "z = np.outer(np.cos(theta), np.ones_like(phi))\n",
    "\n",
    "xi, yi, zi = sample_spherical(300)\n",
    "\n",
    "fig, ax = plt.subplots(1, 1, subplot_kw={'projection':'3d'})\n",
    "# ax.plot_wireframe(x, y, z, color='k', rstride=1, cstride=1)\n",
    "ax.scatter(xi, yi, zi, s=100, c='r', zorder=10)\n",
    "\n",
    "# print(xi, yi, zi)"
   ]
  },
  {
   "cell_type": "code",
   "execution_count": 61,
   "metadata": {},
   "outputs": [
    {
     "name": "stdout",
     "output_type": "stream",
     "text": [
      "[[0.8 0.9 0.2]\n",
      " [0.1 0.6 0.1]\n",
      " [0.2 0.3 0.4]]\n",
      "[ True  True  True]\n"
     ]
    }
   ],
   "source": [
    "import numpy as np\n",
    "arr = np.array([[0.8, 0.9, 0.2], [0.1, 0.6, 0.1], [0.2, 0.3, 0.4]])\n",
    "print(arr)\n",
    "print(np.all(arr>0, axis=0))"
   ]
  },
  {
   "cell_type": "code",
   "execution_count": 82,
   "metadata": {},
   "outputs": [],
   "source": [
    "def sample_point_on_positive_sphere():\n",
    "    ndim = 3\n",
    "    vec = np.random.randn(ndim)\n",
    "    vec /= np.linalg.norm(vec, axis=0)\n",
    "    while not (vec>0).all():\n",
    "        vec = np.random.randn(ndim)\n",
    "        vec /= np.linalg.norm(vec, axis=0)\n",
    "    return vec"
   ]
  },
  {
   "cell_type": "code",
   "execution_count": 118,
   "metadata": {},
   "outputs": [],
   "source": [
    "def create_3D_pareto_front(plot=False):\n",
    "    pareto_front = []\n",
    "    xs = []\n",
    "    ys = []\n",
    "    zs = []\n",
    "\n",
    "    for _ in range(20):\n",
    "        x, y, z = sample_point_on_positive_sphere()\n",
    "        pareto_front.append([x, y, z])\n",
    "        xs.append(x)\n",
    "        ys.append(y)\n",
    "        zs.append(z)\n",
    "    if plot:\n",
    "        fig, ax = plt.subplots(1, 1, subplot_kw={'projection':'3d'})\n",
    "        ax.scatter(xs, ys, zs, s=100, c='r', zorder=10)\n",
    "        fig.show()\n",
    "    \n",
    "    return pareto_front"
   ]
  },
  {
   "cell_type": "code",
   "execution_count": 126,
   "metadata": {},
   "outputs": [
    {
     "name": "stderr",
     "output_type": "stream",
     "text": [
      "/home/benjamin/.local/lib/python3.6/site-packages/ipykernel_launcher.py:16: UserWarning: Matplotlib is currently using module://ipykernel.pylab.backend_inline, which is a non-GUI backend, so cannot show the figure.\n",
      "  app.launch_new_instance()\n"
     ]
    },
    {
     "data": {
      "image/png": "[encoded data removed]",
      "text/plain": [
       "<Figure size 432x288 with 1 Axes>"
      ]
     },
     "metadata": {
      "needs_background": "light"
     },
     "output_type": "display_data"
    }
   ],
   "source": [
    "pf = create_3D_pareto_front(plot=True)"
   ]
  },
  {
   "cell_type": "code",
   "execution_count": 103,
   "metadata": {},
   "outputs": [
    {
     "data": {
      "text/plain": [
       "inf"
      ]
     },
     "execution_count": 103,
     "metadata": {},
     "output_type": "execute_result"
    }
   ],
   "source": [
    "np.inf"
   ]
  },
  {
   "cell_type": "code",
   "execution_count": 104,
   "metadata": {},
   "outputs": [
    {
     "data": {
      "text/plain": [
       "True"
      ]
     },
     "execution_count": 104,
     "metadata": {},
     "output_type": "execute_result"
    }
   ],
   "source": [
    "np.inf > 3"
   ]
  },
  {
   "cell_type": "code",
   "execution_count": null,
   "metadata": {},
   "outputs": [],
   "source": []
  }
 ],
 "metadata": {
  "kernelspec": {
   "display_name": "Python 3",
   "language": "python",
   "name": "python3"
  },
  "language_info": {
   "codemirror_mode": {
    "name": "ipython",
    "version": 3
   },
   "file_extension": ".py",
   "mimetype": "text/x-python",
   "name": "python",
   "nbconvert_exporter": "python",
   "pygments_lexer": "ipython3",
   "version": "3.6.8"
  }
 },
 "nbformat": 4,
 "nbformat_minor": 4
}
