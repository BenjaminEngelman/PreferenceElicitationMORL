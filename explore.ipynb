{
 "cells": [
  {
   "cell_type": "code",
   "execution_count": 47,
   "metadata": {},
   "outputs": [],
   "source": [
    "from scipy.stats import norm\n",
    "import matplotlib.pyplot as plt\n",
    "import numpy as np"
   ]
  },
  {
   "cell_type": "code",
   "execution_count": 22,
   "metadata": {},
   "outputs": [],
   "source": [
    "rv = norm(loc=1, scale=0)"
   ]
  },
  {
   "cell_type": "code",
   "execution_count": 106,
   "metadata": {},
   "outputs": [],
   "source": [
    "y = []\n",
    "_x = np.linspace(-5, 5, 100)\n",
    "for x in _x:\n",
    "    y.append(norm.logcdf(x, loc=0, scale=1))"
   ]
  },
  {
   "cell_type": "code",
   "execution_count": 107,
   "metadata": {},
   "outputs": [
    {
     "data": {
      "text/plain": [
       "[<matplotlib.lines.Line2D at 0x7ff46f3546d8>]"
      ]
     },
     "execution_count": 107,
     "metadata": {},
     "output_type": "execute_result"
    },
    {
     "data": {
      "image/png": "[encoded data removed]",
      "text/plain": [
       "<Figure size 432x288 with 1 Axes>"
      ]
     },
     "metadata": {
      "needs_background": "light"
     },
     "output_type": "display_data"
    }
   ],
   "source": [
    "plt.plot(_x, y)"
   ]
  },
  {
   "cell_type": "code",
   "execution_count": 79,
   "metadata": {},
   "outputs": [
    {
     "name": "stdout",
     "output_type": "stream",
     "text": [
      "[1 2] [10 -9]\n"
     ]
    }
   ],
   "source": [
    "import math\n",
    "x = np.array([1, 2])\n",
    "sigma = np.identity(2)\n",
    "\n",
    "a = np.array([12, 1])\n",
    "b = np.array([2, 10])\n",
    "\n",
    "d = a - b\n",
    "print(x, d)"
   ]
  },
  {
   "cell_type": "code",
   "execution_count": 82,
   "metadata": {},
   "outputs": [
    {
     "name": "stdout",
     "output_type": "stream",
     "text": [
      "[10.  0.]\n",
      "-8\n"
     ]
    },
    {
     "data": {
      "text/plain": [
       "array([-3.54167366,         nan])"
      ]
     },
     "execution_count": 82,
     "metadata": {},
     "output_type": "execute_result"
    }
   ],
   "source": [
    "varAlongD = (d * sigma * d.T)[0]\n",
    "print(np.sqrt(varAlongD))\n",
    "meanAlongD = d.reshape(-1,).dot(x.reshape(-1,))\n",
    "print(meanAlongD)\n",
    "# norm.logcdf(meanAlongD, 0, np.sqrt(varAlongD))\n",
    "np.log(norm.cdf(meanAlongD + 0.5, 0, np.sqrt(varAlongD)) - norm.cdf(meanAlongD - 0.5, 0, np.sqrt(varAlongD)))"
   ]
  },
  {
   "cell_type": "code",
   "execution_count": null,
   "metadata": {},
   "outputs": [],
   "source": [
    "norm.pdf()"
   ]
  },
  {
   "cell_type": "code",
   "execution_count": 112,
   "metadata": {},
   "outputs": [
    {
     "data": {
      "text/plain": [
       "-0.894385450010955"
      ]
     },
     "execution_count": 112,
     "metadata": {},
     "output_type": "execute_result"
    }
   ],
   "source": [
    "norm(0, 1).rvs()"
   ]
  },
  {
   "cell_type": "markdown",
   "metadata": {},
   "source": [
    "# Log regression"
   ]
  },
  {
   "cell_type": "code",
   "execution_count": 9,
   "metadata": {},
   "outputs": [],
   "source": [
    "import numpy as np\n",
    "import src.bayes_logistic as bl"
   ]
  },
  {
   "cell_type": "code",
   "execution_count": 222,
   "metadata": {},
   "outputs": [],
   "source": [
    "hidden_weights = np.array([0.8, 0.2])\n",
    "utility = lambda x: hidden_weights[0] * x[0] + hidden_weights[1] * x[1] \n",
    "\n",
    "range_1 = [0, 200]\n",
    "range_2 = [-13, -1]"
   ]
  },
  {
   "cell_type": "code",
   "execution_count": 224,
   "metadata": {},
   "outputs": [
    {
     "name": "stdout",
     "output_type": "stream",
     "text": [
      "[0.5 0.5]\n",
      "[0.5 0.5]\n",
      "[0.5 0.5]\n",
      "[0.5 0.5]\n",
      "[0.5 0.5]\n",
      "[0.5 0.5]\n",
      "[0.5 0.5]\n",
      "[0.5 0.5]\n",
      "[0.5 0.5]\n",
      "[0.5 0.5]\n",
      "[0.5 0.5]\n",
      "[0.5 0.5]\n",
      "[0.76710299 0.23289701]\n",
      "[0.76746565 0.23253435]\n",
      "[0.76750261 0.23249739]\n",
      "[0.76828717 0.23171283]\n",
      "[0.76831457 0.23168543]\n",
      "[0.76868469 0.23131531]\n",
      "[0.76861749 0.23138251]\n",
      "[0.76957189 0.23042811]\n"
     ]
    }
   ],
   "source": [
    "from random import randint\n",
    "\n",
    "X = []\n",
    "Y = []\n",
    "\n",
    "w_prior = np.ones(len(hidden_weights)) / len(hidden_weights)\n",
    "\n",
    "for _ in range(20):\n",
    "    p1 = np.array([randint(range_1[0], range_1[1]), randint(range_2[0], range_2[1])])\n",
    "    p2 = np.array([randint(range_1[0], range_1[1]), randint(range_2[0], range_2[1])])\n",
    "    x = p1 - p2\n",
    "    X.append(x)\n",
    "    Y.append(float(utility(p1) >= utility(p2)))\n",
    "    \n",
    "    # Regression\n",
    "    H_prior_diag = np.ones(len(hidden_weights)) * (1.0 / 0.33) ** 2\n",
    "\n",
    "    w_fit, H_fit = bl.fit_bayes_logistic(np.array(Y),\n",
    "                                         np.array(X),\n",
    "                                         w_prior,\n",
    "                                         H_prior_diag)\n",
    "    unnorm_w = w_fit\n",
    "    sum_w = sum(unnorm_w)\n",
    "    print(unnorm_w / sum_w)\n",
    "#     w_prior = unnorm_w / sum_w\n",
    "    \n"
   ]
  },
  {
   "cell_type": "code",
   "execution_count": null,
   "metadata": {},
   "outputs": [],
   "source": []
  },
  {
   "cell_type": "code",
   "execution_count": 151,
   "metadata": {},
   "outputs": [
    {
     "name": "stdout",
     "output_type": "stream",
     "text": [
      "[0.5 0.5]\n",
      "[0.50054316 0.49945684]\n"
     ]
    }
   ],
   "source": [
    "w_prior = np.ones(len(hidden_weights)) / \\\n",
    "    len(hidden_weights)\n",
    "H_prior_diag = np.ones(\n",
    "    len(hidden_weights)) * (1.0 / 0.33) ** 2\n",
    "\n",
    "print(w_prior)\n",
    "w_fit, H_fit = bl.fit_bayes_logistic(Y,\n",
    "                                     X,\n",
    "                                     w_prior,\n",
    "                                     H_prior_diag)\n",
    "unnorm_w = w_fit\n",
    "sum_w = sum(unnorm_w)\n",
    "print(unnorm_w / sum_w)\n"
   ]
  },
  {
   "cell_type": "code",
   "execution_count": 304,
   "metadata": {},
   "outputs": [],
   "source": [
    "solutions = [\n",
    "    [5, -1],\n",
    "    [80, -3],\n",
    "    [120, -5],\n",
    "    [140, -7],\n",
    "    [145, -8],\n",
    "    [150, -9],\n",
    "    [163, -13],\n",
    "    [166, -14],\n",
    "    [173, -17],\n",
    "#     [175, -19],\n",
    "    \n",
    "]\n",
    "\n",
    "# weights = [0.43418691, 0.56581309]\n",
    "weights = [0.36666223, 0.63333777]\n",
    "\n",
    "def get_best_sol(weights):\n",
    "\n",
    "    utility = lambda x: weights[0] * x[0] + weights[1] * x[1]\n",
    "    best_u = -1000\n",
    "    best_sol = 0\n",
    "\n",
    "    for sol in solutions:\n",
    "        if utility(sol) > best_u:\n",
    "            best_u = utility(sol)\n",
    "            best_sol = sol\n",
    "\n",
    "    return best_sol"
   ]
  },
  {
   "cell_type": "code",
   "execution_count": 305,
   "metadata": {},
   "outputs": [
    {
     "data": {
      "text/plain": [
       "[173, -17]"
      ]
     },
     "execution_count": 305,
     "metadata": {},
     "output_type": "execute_result"
    }
   ],
   "source": [
    "get_best_sol([0.36666223, 0.63333777])"
   ]
  },
  {
   "cell_type": "code",
   "execution_count": 302,
   "metadata": {},
   "outputs": [
    {
     "data": {
      "image/png": "[encoded data removed]",
      "text/plain": [
       "<Figure size 1440x720 with 1 Axes>"
      ]
     },
     "metadata": {
      "needs_background": "light"
     },
     "output_type": "display_data"
    }
   ],
   "source": [
    "import matplotlib.pyplot as plt\n",
    "\n",
    "y = []\n",
    "weights_line = np.arange(0, 1, 0.00001)\n",
    "\n",
    "for w in weights_line:\n",
    "    y.append(get_best_sol([1-w, w])[0])\n",
    "\n",
    "plt.figure(figsize=(20, 10))\n",
    "plt.scatter(x=weights_line, y=y)\n",
    "plt.xlabel(\"Time Weight\")\n",
    "plt.ylabel(\"Treasure Value\")\n",
    "\n",
    "for sol in solutions:\n",
    "#     plt.hlines(sol[0], 0, 1, linestyles='dashed')\n",
    "    plt.text(1.02, sol[0], sol[0], ha='right', va='center')"
   ]
  },
  {
   "cell_type": "code",
   "execution_count": 299,
   "metadata": {},
   "outputs": [
    {
     "data": {
      "text/plain": [
       "{5, 80, 120, 140, 150, 163, 166, 173, 175}"
      ]
     },
     "execution_count": 299,
     "metadata": {},
     "output_type": "execute_result"
    }
   ],
   "source": [
    "unique_y = set(y)\n",
    "unique_y"
   ]
  },
  {
   "cell_type": "code",
   "execution_count": null,
   "metadata": {},
   "outputs": [],
   "source": []
  }
 ],
 "metadata": {
  "kernelspec": {
   "display_name": "Python 3",
   "language": "python",
   "name": "python3"
  },
  "language_info": {
   "codemirror_mode": {
    "name": "ipython",
    "version": 3
   },
   "file_extension": ".py",
   "mimetype": "text/x-python",
   "name": "python",
   "nbconvert_exporter": "python",
   "pygments_lexer": "ipython3",
   "version": "3.6.8"
  }
 },
 "nbformat": 4,
 "nbformat_minor": 4
}
